{
 "cells": [
  {
   "cell_type": "code",
   "execution_count": 1,
   "metadata": {},
   "outputs": [],
   "source": [
    "import numpy as np"
   ]
  },
  {
   "cell_type": "code",
   "execution_count": 18,
   "metadata": {},
   "outputs": [
    {
     "name": "stdout",
     "output_type": "stream",
     "text": [
      "Y1 (Sum) 15 5.0 (Average)\n",
      "Y2 (Sum) 14 4.666666666666667 (Average)\n",
      "Y3 (Sum) 17 5.666666666666667 (Average)\n",
      "Y4 (Sum) 20 6.666666666666667 (Average)\n",
      "Y5 (Sum) 29 9.666666666666666 (Average)\n",
      "Y6 (Sum) 86 28.666666666666668 (Average)\n",
      "Y7 (Sum) 148 49.333333333333336 (Average)\n",
      "Y8 (Sum) 218 72.66666666666667 (Average)\n",
      "Y9 (Sum) 252 84.0 (Average)\n",
      "Y10 (Sum) 280 93.33333333333333 (Average)\n",
      "Y11 (Sum) 349 116.33333333333333 (Average)\n"
     ]
    }
   ],
   "source": [
    "\n",
    "arr =[3,5,7,2,8,10,11,65,72,81,99,100,150]\n",
    "\n",
    "a = 0\n",
    "for i in range(1, (len(arr) - 3) + 2):\n",
    "    print(\"Y\"+ str(i), end = \" \")\n",
    "    cntr = 0\n",
    "    val_ = 0\n",
    "    for j in range(a,len(arr)):\n",
    "        val_ = arr[j] + val_\n",
    "        cntr += 1\n",
    "        if cntr == 3:\n",
    "            break\n",
    "    print(\"(Sum) \" + str(val_), end=\" \")\n",
    "    print(str(val_/3)+ \" (Average)\")\n",
    "    a+=1"
   ]
  },
  {
   "cell_type": "code",
   "execution_count": null,
   "metadata": {},
   "outputs": [],
   "source": []
  }
 ],
 "metadata": {
  "kernelspec": {
   "display_name": "Python 3",
   "language": "python",
   "name": "python3"
  },
  "language_info": {
   "codemirror_mode": {
    "name": "ipython",
    "version": 3
   },
   "file_extension": ".py",
   "mimetype": "text/x-python",
   "name": "python",
   "nbconvert_exporter": "python",
   "pygments_lexer": "ipython3",
   "version": "3.7.4"
  }
 },
 "nbformat": 4,
 "nbformat_minor": 2
}
