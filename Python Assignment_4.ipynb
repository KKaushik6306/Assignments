{
 "cells": [
  {
   "cell_type": "markdown",
   "metadata": {},
   "source": [
    "# Question 1.1 "
   ]
  },
  {
   "cell_type": "code",
   "execution_count": 55,
   "metadata": {},
   "outputs": [
    {
     "data": {
      "text/plain": [
       "1.984313483298443"
      ]
     },
     "execution_count": 55,
     "metadata": {},
     "output_type": "execute_result"
    }
   ],
   "source": [
    "class triangle:\n",
    "    def __init__(self,a,b,c):\n",
    "        self.a=a\n",
    "        self.b=b\n",
    "        self.c=c\n",
    "    def area(self):\n",
    "        s = (self.a+self.b+self.c)/2\n",
    "        area = (s*(s-self.a)*(s-self.b)*(s-self.c))**0.5\n",
    "        return area\n",
    "\n",
    "\n",
    "\n",
    "\n",
    "a1=triangle(2,3,2)\n",
    "a1.area()"
   ]
  },
  {
   "cell_type": "markdown",
   "metadata": {},
   "source": [
    "# Question 1.2 "
   ]
  },
  {
   "cell_type": "code",
   "execution_count": 21,
   "metadata": {},
   "outputs": [
    {
     "name": "stdout",
     "output_type": "stream",
     "text": [
      "Karan Kaushik\n",
      "Vikas Kaushik\n",
      "Sunil\n",
      "Praveen\n",
      "Lalit\n"
     ]
    },
    {
     "data": {
      "text/plain": [
       "['Karan Kaushik', 'Vikas Kaushik', 'Praveen']"
      ]
     },
     "execution_count": 21,
     "metadata": {},
     "output_type": "execute_result"
    }
   ],
   "source": [
    "def filter_long_words(a,n):\n",
    "    mlst = []\n",
    "    for i in a:\n",
    "        print(i)\n",
    "        if len(i)>n:\n",
    "            mlst.append(i)\n",
    "    return mlst   \n",
    "\n",
    "\n",
    "nm_lst = ['Karan Kaushik','Vikas Kaushik','Sunil','Praveen','Lalit']\n",
    "filter_long_words(nm_lst,5)     "
   ]
  },
  {
   "cell_type": "markdown",
   "metadata": {},
   "source": [
    "# Question 2.1"
   ]
  },
  {
   "cell_type": "code",
   "execution_count": 24,
   "metadata": {},
   "outputs": [
    {
     "data": {
      "text/plain": [
       "[13, 13, 5, 7, 5]"
      ]
     },
     "execution_count": 24,
     "metadata": {},
     "output_type": "execute_result"
    }
   ],
   "source": [
    "def lst_length(a):\n",
    "    mlst2=[]\n",
    "    for i in a:\n",
    "        mlst2.append(len(i))\n",
    "    return mlst2\n",
    "\n",
    "nm_lst = ['Karan Kaushik','Vikas Kaushik','Sunil','Praveen','Lalit']\n",
    "lst_length(nm_lst)"
   ]
  },
  {
   "cell_type": "markdown",
   "metadata": {},
   "source": [
    "# Question 2.2 "
   ]
  },
  {
   "cell_type": "code",
   "execution_count": 32,
   "metadata": {},
   "outputs": [
    {
     "data": {
      "text/plain": [
       "True"
      ]
     },
     "execution_count": 32,
     "metadata": {},
     "output_type": "execute_result"
    }
   ],
   "source": [
    "def vowel_chck(b):\n",
    "    if b=='a':\n",
    "        return True\n",
    "    elif b=='e':\n",
    "        return True\n",
    "    elif b=='i':\n",
    "        return True\n",
    "    elif b=='o':\n",
    "        return True\n",
    "    elif b=='u':\n",
    "        return True\n",
    "    else:\n",
    "        return False\n",
    "vowel_chck('a')"
   ]
  },
  {
   "cell_type": "code",
   "execution_count": null,
   "metadata": {},
   "outputs": [],
   "source": []
  }
 ],
 "metadata": {
  "kernelspec": {
   "display_name": "Python 3",
   "language": "python",
   "name": "python3"
  },
  "language_info": {
   "codemirror_mode": {
    "name": "ipython",
    "version": 3
   },
   "file_extension": ".py",
   "mimetype": "text/x-python",
   "name": "python",
   "nbconvert_exporter": "python",
   "pygments_lexer": "ipython3",
   "version": "3.7.4"
  }
 },
 "nbformat": 4,
 "nbformat_minor": 2
}
