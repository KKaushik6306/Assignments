{
 "cells": [
  {
   "cell_type": "markdown",
   "metadata": {},
   "source": [
    "## Question 1"
   ]
  },
  {
   "cell_type": "code",
   "execution_count": 2,
   "metadata": {},
   "outputs": [
    {
     "name": "stdout",
     "output_type": "stream",
     "text": [
      "Mean - 6.85\n",
      "Median - 7.0\n",
      "Mode - 7\n",
      "Standard Deviation - 1.6311119875071343\n"
     ]
    }
   ],
   "source": [
    "marks = [6,7,5,7,7,8,7,6,9,7,4,10,6,8,8,9,5,6,4,8]\n",
    "print('Mean - ' + str(st.mean(marks)))\n",
    "print('Median - ' + str(st.median(marks)))\n",
    "print('Mode - ' + str(st.mode(marks)))\n",
    "print('Standard Deviation - ' + str(st.stdev(marks)))"
   ]
  },
  {
   "cell_type": "markdown",
   "metadata": {},
   "source": [
    "## Question 2 "
   ]
  },
  {
   "cell_type": "code",
   "execution_count": 3,
   "metadata": {},
   "outputs": [
    {
     "name": "stdout",
     "output_type": "stream",
     "text": [
      "Mean - 107.51428571428572\n",
      "Median - 100\n",
      "Mode - 75\n",
      "Standard Deviation - 39.33892805484412\n"
     ]
    }
   ],
   "source": [
    "calls = [28,122,217,130,120,86,80,90,140,120,70,40,145,113,90,68,174,194,170,100,75,104,\n",
    "         97,75,123,100,75,104,97,75,123,100,89,120,109]\n",
    "print('Mean - ' + str(st.mean(calls)))\n",
    "print('Median - ' + str(st.median(calls)))\n",
    "print('Mode - ' + str(st.mode(calls)))\n",
    "print('Standard Deviation - ' + str(st.stdev(calls)))"
   ]
  },
  {
   "cell_type": "code",
   "execution_count": 4,
   "metadata": {},
   "outputs": [
    {
     "ename": "AttributeError",
     "evalue": "module 'numpy' has no attribute 'poi'",
     "output_type": "error",
     "traceback": [
      "\u001b[1;31m---------------------------------------------------------------------------\u001b[0m",
      "\u001b[1;31mAttributeError\u001b[0m                            Traceback (most recent call last)",
      "\u001b[1;32m<ipython-input-4-5018acb682df>\u001b[0m in \u001b[0;36m<module>\u001b[1;34m\u001b[0m\n\u001b[0;32m      6\u001b[0m \u001b[0mmean_\u001b[0m \u001b[1;33m=\u001b[0m \u001b[1;36m1\u001b[0m\u001b[1;33m*\u001b[0m\u001b[1;36m0.15\u001b[0m\u001b[1;33m\u001b[0m\u001b[1;33m\u001b[0m\u001b[0m\n\u001b[0;32m      7\u001b[0m \u001b[1;33m\u001b[0m\u001b[0m\n\u001b[1;32m----> 8\u001b[1;33m \u001b[0mnp\u001b[0m\u001b[1;33m.\u001b[0m\u001b[0mpoi\u001b[0m\u001b[1;33m\u001b[0m\u001b[1;33m\u001b[0m\u001b[0m\n\u001b[0m",
      "\u001b[1;31mAttributeError\u001b[0m: module 'numpy' has no attribute 'poi'"
     ]
    }
   ],
   "source": [
    "trials = [0,1,2,3,4,5]\n",
    "\n",
    "prob_ = [0.09,0.15,0.40,0.25,0.10,0.01]\n",
    "\n",
    "#Mean = no. of trials * Probability of Success\n",
    "mean_ = 1*0.15\n",
    "\n",
    "np.poi"
   ]
  },
  {
   "cell_type": "code",
   "execution_count": null,
   "metadata": {},
   "outputs": [],
   "source": [
    "from scipy.stats import poisson"
   ]
  },
  {
   "cell_type": "markdown",
   "metadata": {},
   "source": [
    "## Question 3"
   ]
  },
  {
   "cell_type": "code",
   "execution_count": null,
   "metadata": {},
   "outputs": [],
   "source": [
    "import pandas as pd\n",
    "import math"
   ]
  },
  {
   "cell_type": "code",
   "execution_count": null,
   "metadata": {},
   "outputs": [],
   "source": [
    "s1 = pd.Series([0,1,2,3,4,5])\n",
    "s2 =pd.Series([0.09,0.15,0.40,0.25,0.10,0.01])\n",
    "df = pd.concat([s1,s2],axis=1)\n",
    "df"
   ]
  },
  {
   "cell_type": "code",
   "execution_count": null,
   "metadata": {},
   "outputs": [],
   "source": [
    "df.columns = ['Workouts','Probability']\n",
    "df['Calc'] = df['Workouts'] * df['Probability']\n",
    "df"
   ]
  },
  {
   "cell_type": "markdown",
   "metadata": {},
   "source": [
    "## Mean"
   ]
  },
  {
   "cell_type": "code",
   "execution_count": null,
   "metadata": {},
   "outputs": [],
   "source": [
    "mean_ = df['Calc'].sum()\n",
    "mean_"
   ]
  },
  {
   "cell_type": "markdown",
   "metadata": {},
   "source": [
    "## Variance"
   ]
  },
  {
   "cell_type": "code",
   "execution_count": null,
   "metadata": {},
   "outputs": [],
   "source": [
    "df['dataminus_mu'] = (df['Workouts']-mean_) * (df['Workouts']-mean_)\n",
    "df"
   ]
  },
  {
   "cell_type": "code",
   "execution_count": null,
   "metadata": {},
   "outputs": [],
   "source": [
    "df['calc2'] = df['Probability'] * mean_\n",
    "df"
   ]
  },
  {
   "cell_type": "code",
   "execution_count": null,
   "metadata": {},
   "outputs": [],
   "source": [
    "stnd_deviatn = df['calc2'].sum()\n",
    "variance = math.sqrt(stnd_deviatn)\n",
    "print('Variance is ', variance)"
   ]
  },
  {
   "cell_type": "code",
   "execution_count": null,
   "metadata": {},
   "outputs": [],
   "source": []
  },
  {
   "cell_type": "markdown",
   "metadata": {},
   "source": [
    "## Question 5"
   ]
  },
  {
   "cell_type": "code",
   "execution_count": null,
   "metadata": {},
   "outputs": [],
   "source": [
    "Total_Bulbs = 10\n",
    "Correct_Bulbs = 7\n",
    "Faulty_Bulbs = 3"
   ]
  },
  {
   "cell_type": "code",
   "execution_count": 1,
   "metadata": {},
   "outputs": [],
   "source": [
    "from itertools import combinations \n",
    "import math\n",
    "from scipy.stats import binom\n",
    "from math import factorial"
   ]
  },
  {
   "cell_type": "code",
   "execution_count": 8,
   "metadata": {},
   "outputs": [
    {
     "data": {
      "text/plain": [
       "0.8192000000000002"
      ]
     },
     "execution_count": 8,
     "metadata": {},
     "output_type": "execute_result"
    }
   ],
   "source": [
    "a = binom.pmf(n=4,k=3,p=0.8)\n",
    "b = binom.pmf(n=4,k=4,p=0.8)\n",
    "a+b"
   ]
  },
  {
   "cell_type": "code",
   "execution_count": 6,
   "metadata": {},
   "outputs": [],
   "source": [
    "def comb_func (n,r):\n",
    "    return (factorial(n))/(factorial(r) * factorial(n-r))"
   ]
  },
  {
   "cell_type": "code",
   "execution_count": 7,
   "metadata": {},
   "outputs": [
    {
     "data": {
      "text/plain": [
       "0.3241349999999999"
      ]
     },
     "execution_count": 7,
     "metadata": {},
     "output_type": "execute_result"
    }
   ],
   "source": [
    "#Use Binomial Distribution\n",
    "n = 6\n",
    "x = 2\n",
    "prob_S = (3/10)\n",
    "\n",
    "Prob_ = comb_func(n,x) * prob_S**x *(1-prob_S)**(n-x)\n",
    "Prob_"
   ]
  },
  {
   "cell_type": "code",
   "execution_count": 8,
   "metadata": {},
   "outputs": [
    {
     "data": {
      "text/plain": [
       "1.7999999999999998"
      ]
     },
     "execution_count": 8,
     "metadata": {},
     "output_type": "execute_result"
    }
   ],
   "source": [
    "binom.mean(n=6,p=0.3)"
   ]
  },
  {
   "cell_type": "code",
   "execution_count": 9,
   "metadata": {},
   "outputs": [
    {
     "data": {
      "text/plain": [
       "1.2599999999999998"
      ]
     },
     "execution_count": 9,
     "metadata": {},
     "output_type": "execute_result"
    }
   ],
   "source": [
    "binom.var(n=6,p=0.3)"
   ]
  },
  {
   "cell_type": "code",
   "execution_count": 10,
   "metadata": {},
   "outputs": [
    {
     "data": {
      "text/plain": [
       "0.32413499999999995"
      ]
     },
     "execution_count": 10,
     "metadata": {},
     "output_type": "execute_result"
    }
   ],
   "source": [
    "binom.pmf(k=2,n=6,p=0.3)"
   ]
  },
  {
   "cell_type": "code",
   "execution_count": 11,
   "metadata": {},
   "outputs": [
    {
     "data": {
      "text/plain": [
       "0.74431"
      ]
     },
     "execution_count": 11,
     "metadata": {},
     "output_type": "execute_result"
    }
   ],
   "source": [
    "binom.cdf(k=2,n=6,p=0.3)"
   ]
  },
  {
   "cell_type": "code",
   "execution_count": 12,
   "metadata": {},
   "outputs": [],
   "source": [
    "mean,variance = binom.stats(n=6,p=0.3)"
   ]
  },
  {
   "cell_type": "code",
   "execution_count": 13,
   "metadata": {},
   "outputs": [
    {
     "name": "stdout",
     "output_type": "stream",
     "text": [
      "Mean is  1.7999999999999998\n",
      "Variance is  1.2599999999999998\n",
      "Standard Deviation is  1.1224972160321822\n"
     ]
    }
   ],
   "source": [
    "print('Mean is ', mean)\n",
    "print('Variance is ', variance)\n",
    "print('Standard Deviation is ', math.sqrt(variance))"
   ]
  },
  {
   "cell_type": "markdown",
   "metadata": {},
   "source": [
    "## Question 6 "
   ]
  },
  {
   "cell_type": "code",
   "execution_count": 18,
   "metadata": {},
   "outputs": [],
   "source": [
    "import seaborn as sns\n",
    "import matplotlib.pyplot as plt"
   ]
  },
  {
   "cell_type": "code",
   "execution_count": 36,
   "metadata": {},
   "outputs": [
    {
     "name": "stdout",
     "output_type": "stream",
     "text": [
      "Gaurav Probability of total correct questions 5\n",
      "0.20764160156250022\n",
      "Barkha Probability of total correct questions 5\n",
      "0.22249823843265792\n"
     ]
    }
   ],
   "source": [
    "Gaurav_Ques = 8\n",
    "Gaurav_P = 0.75\n",
    "Gaurav_Q = 1- Gaurav_P\n",
    "\n",
    "Barkha_Ques = 12\n",
    "Barkha_P = 0.45\n",
    "Barkha_Q = 1-Barkha_P\n",
    "\n",
    "k = 5\n",
    "\n",
    "print('Gaurav Probability of total correct questions 5')\n",
    "print(binom.pmf(k=k,n=Gaurav_Ques,p=Gaurav_P))\n",
    "print('Barkha Probability of total correct questions 5')\n",
    "print(binom.pmf(k=k,n=Barkha_Ques,p=Barkha_P))\n"
   ]
  },
  {
   "cell_type": "code",
   "execution_count": 26,
   "metadata": {},
   "outputs": [],
   "source": [
    "a = binom.pmf(k=k,n=Barkha_Ques,p=Barkha_P)"
   ]
  },
  {
   "cell_type": "markdown",
   "metadata": {},
   "source": [
    "## Pictorial Presentation "
   ]
  },
  {
   "cell_type": "markdown",
   "metadata": {},
   "source": [
    "### 5 Questions Correct - Probability"
   ]
  },
  {
   "cell_type": "code",
   "execution_count": 33,
   "metadata": {},
   "outputs": [
    {
     "name": "stdout",
     "output_type": "stream",
     "text": [
      "Probability of Gaurav\n"
     ]
    },
    {
     "data": {
      "image/png": "[encoded data removed]",
      "text/plain": [
       "<Figure size 432x288 with 1 Axes>"
      ]
     },
     "metadata": {
      "needs_background": "light"
     },
     "output_type": "display_data"
    },
    {
     "name": "stdout",
     "output_type": "stream",
     "text": [
      "Probability of Barkha\n"
     ]
    },
    {
     "data": {
      "image/png": "[encoded data removed]",
      "text/plain": [
       "<Figure size 432x288 with 1 Axes>"
      ]
     },
     "metadata": {
      "needs_background": "light"
     },
     "output_type": "display_data"
    }
   ],
   "source": [
    "print('Probability of Gaurav')\n",
    "n = Barkha_Ques\n",
    "p = Barkha_P\n",
    "# defining list of r values \n",
    "r_values = list(range(n + 1)) \n",
    "# list of pmf values \n",
    "dist = [binom.pmf(r, n, p) for r in r_values ] \n",
    "# plotting the graph  \n",
    "plt.bar(r_values, dist) \n",
    "plt.show()\n",
    "\n",
    "print('Probability of Barkha')\n",
    "n = Gaurav_Ques\n",
    "p = Gaurav_P\n",
    "# defining list of r values \n",
    "r_values = list(range(n + 1)) \n",
    "# list of pmf values \n",
    "dist = [binom.pmf(r, n, p) for r in r_values ] \n",
    "# plotting the graph  \n",
    "plt.bar(r_values, dist) \n",
    "plt.show()"
   ]
  },
  {
   "cell_type": "markdown",
   "metadata": {},
   "source": [
    "# Question 7 "
   ]
  },
  {
   "cell_type": "code",
   "execution_count": 41,
   "metadata": {},
   "outputs": [
    {
     "name": "stdout",
     "output_type": "stream",
     "text": [
      "Total customers arrive at shop in hour  72\n",
      "Total no. of customers per minute  1.2\n"
     ]
    }
   ],
   "source": [
    "print('Total customers arrive at shop in hour ',  72)\n",
    "CP_M = 72/60\n",
    "print('Total no. of customers per minute ', 72/60)\n"
   ]
  },
  {
   "cell_type": "code",
   "execution_count": 51,
   "metadata": {},
   "outputs": [
    {
     "data": {
      "text/plain": [
       "4.8"
      ]
     },
     "execution_count": 51,
     "metadata": {},
     "output_type": "execute_result"
    }
   ],
   "source": [
    "from scipy.stats import poisson\n",
    "Cust_4mins = 1.2 * 4\n",
    "Cust_4mins"
   ]
  },
  {
   "cell_type": "markdown",
   "metadata": {},
   "source": [
    "###  Point 1"
   ]
  },
  {
   "cell_type": "code",
   "execution_count": 61,
   "metadata": {},
   "outputs": [
    {
     "name": "stdout",
     "output_type": "stream",
     "text": [
      "Probability of 5 Customers arriving in 4 minutes is  0.17474768364388296\n"
     ]
    }
   ],
   "source": [
    "print('Probability of 5 Customers arriving in 4 minutes is ',poisson.pmf(k=5,mu=4.8))"
   ]
  },
  {
   "cell_type": "markdown",
   "metadata": {},
   "source": [
    "### Point 2"
   ]
  },
  {
   "cell_type": "code",
   "execution_count": 62,
   "metadata": {},
   "outputs": [
    {
     "name": "stdout",
     "output_type": "stream",
     "text": [
      "Probability of not more than 3 customers in 4 minutes is  0.29422991649656405\n"
     ]
    }
   ],
   "source": [
    "c_0 = poisson.pmf(k=0,mu=4.8)\n",
    "c_1 = poisson.pmf(k=1,mu=4.8)\n",
    "c_2 = poisson.pmf(k=2,mu=4.8)\n",
    "c_3 = poisson.pmf(k=3,mu=4.8)\n",
    "final_prb = c_0 + c_1 + c_2 + c_3\n",
    "print('Probability of not more than 3 customers in 4 minutes is ', final_prb)"
   ]
  },
  {
   "cell_type": "markdown",
   "metadata": {},
   "source": [
    "### Point 3"
   ]
  },
  {
   "cell_type": "code",
   "execution_count": 59,
   "metadata": {},
   "outputs": [
    {
     "name": "stdout",
     "output_type": "stream",
     "text": [
      "Probability of more than 3 customers in 4 minutes is  0.705770083503436\n"
     ]
    }
   ],
   "source": [
    "more_thnan3 = 1-final_prb\n",
    "print('Probability of more than 3 customers in 4 minutes is ', more_thnan3)"
   ]
  },
  {
   "cell_type": "markdown",
   "metadata": {},
   "source": [
    "# Question 8"
   ]
  },
  {
   "cell_type": "code",
   "execution_count": 65,
   "metadata": {},
   "outputs": [],
   "source": [
    "WPM = 77 * 60\n",
    "Error_Prob = 6/WPM"
   ]
  },
  {
   "cell_type": "code",
   "execution_count": 66,
   "metadata": {},
   "outputs": [
    {
     "data": {
      "text/plain": [
       "0.0012987012987012987"
      ]
     },
     "execution_count": 66,
     "metadata": {},
     "output_type": "execute_result"
    }
   ],
   "source": [
    "Error_Prob"
   ]
  },
  {
   "cell_type": "markdown",
   "metadata": {},
   "source": [
    "# Question 10 "
   ]
  },
  {
   "cell_type": "code",
   "execution_count": 5,
   "metadata": {},
   "outputs": [
    {
     "name": "stdout",
     "output_type": "stream",
     "text": [
      "0.10399999999999998\n",
      "0.194\n",
      "0.08499999999999996\n",
      "0.538\n"
     ]
    }
   ],
   "source": [
    "#P(Z > 1.26)\n",
    "z = 1-0.896\n",
    "print(z)\n",
    "#P(Z < −0.86)\n",
    "z = 0.194\n",
    "print(z)\n",
    "#P(Z > −1.37)\n",
    "z = 1-0.915\n",
    "print(z)\n",
    "#P(−1.25 < Z < 0.37)\n",
    "z = 0.644 - 0.106\n",
    "print(z)\n",
    "#P(Z > z) = 0.05\n",
    "z = 1.6\n"
   ]
  },
  {
   "cell_type": "markdown",
   "metadata": {},
   "source": [
    "# Question 11"
   ]
  },
  {
   "cell_type": "code",
   "execution_count": 75,
   "metadata": {},
   "outputs": [],
   "source": [
    "import numpy as np"
   ]
  },
  {
   "cell_type": "code",
   "execution_count": 82,
   "metadata": {},
   "outputs": [
    {
     "data": {
      "text/plain": [
       "array([-1.46385011, -0.87831007, -0.29277002,  0.29277002,  0.87831007,\n",
       "        1.46385011])"
      ]
     },
     "execution_count": 82,
     "metadata": {},
     "output_type": "execute_result"
    }
   ],
   "source": [
    "currnt_flowval = np.array([ 6,8,10,12,14,16])\n",
    "from scipy import stats\n",
    "stats.zscore(currnt_flowval)\n"
   ]
  },
  {
   "cell_type": "markdown",
   "metadata": {},
   "source": [
    "### What is the probability that a current measurement will exceed 13 mA?"
   ]
  },
  {
   "cell_type": "code",
   "execution_count": 90,
   "metadata": {},
   "outputs": [
    {
     "data": {
      "text/plain": [
       "0.06681000000000004"
      ]
     },
     "execution_count": 90,
     "metadata": {},
     "output_type": "execute_result"
    }
   ],
   "source": [
    "u = 10\n",
    "var_ = 4\n",
    "st_dev = math.sqrt(var_)\n",
    "z_score13 = (13-u)/st_dev\n",
    "\n",
    "\n",
    "z_score13 = 0.93319\n",
    "Prb_ = 1 - z_score13\n",
    "Prb_"
   ]
  },
  {
   "cell_type": "markdown",
   "metadata": {},
   "source": [
    "### What is the probability that a current measurement is between 9 and 11mA?"
   ]
  },
  {
   "cell_type": "code",
   "execution_count": 88,
   "metadata": {},
   "outputs": [
    {
     "data": {
      "text/plain": [
       "0.38292"
      ]
     },
     "execution_count": 88,
     "metadata": {},
     "output_type": "execute_result"
    }
   ],
   "source": [
    "u = 10\n",
    "var_ = 4\n",
    "st_dev = math.sqrt(var_)\n",
    "z_score9 = (9-u)/st_dev\n",
    "z_score11 = (11-u)/st_dev\n",
    "\n",
    "Z_score_9 = 0.30854\n",
    "z_score_11 = 0.69146\n",
    "Prb_ = z_score_11 - Z_score_9\n",
    "Prb_"
   ]
  },
  {
   "cell_type": "markdown",
   "metadata": {},
   "source": [
    "### Determine the current measurement which has a probability of 0.98."
   ]
  },
  {
   "cell_type": "code",
   "execution_count": 92,
   "metadata": {},
   "outputs": [],
   "source": [
    "from scipy.stats import norm"
   ]
  },
  {
   "cell_type": "code",
   "execution_count": 101,
   "metadata": {},
   "outputs": [
    {
     "data": {
      "text/plain": [
       "14.2"
      ]
     },
     "execution_count": 101,
     "metadata": {},
     "output_type": "execute_result"
    }
   ],
   "source": [
    "z_score = 2.1\n",
    "\n",
    "x = (z_score*st_dev)+u\n",
    "x"
   ]
  }
 ],
 "metadata": {
  "kernelspec": {
   "display_name": "Python 3",
   "language": "python",
   "name": "python3"
  },
  "language_info": {
   "codemirror_mode": {
    "name": "ipython",
    "version": 3
   },
   "file_extension": ".py",
   "mimetype": "text/x-python",
   "name": "python",
   "nbconvert_exporter": "python",
   "pygments_lexer": "ipython3",
   "version": "3.7.3"
  }
 },
 "nbformat": 4,
 "nbformat_minor": 2
}
