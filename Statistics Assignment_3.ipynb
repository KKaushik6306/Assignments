{
 "cells": [
  {
   "cell_type": "code",
   "execution_count": 1,
   "metadata": {},
   "outputs": [],
   "source": [
    "from scipy import stats\n",
    "import pandas as pd \n",
    "import numpy as np\n",
    "import math"
   ]
  },
  {
   "cell_type": "markdown",
   "metadata": {},
   "source": [
    "# Question 1 "
   ]
  },
  {
   "cell_type": "markdown",
   "metadata": {},
   "source": [
    "Blood glucose levels for obese patients have a mean of 100 with a standard deviation of\n",
    "    <br>15. A researcher thinks that a diet high in raw cornstarch will have a positive effect on\n",
    "    <br>blood glucose levels. A sample of 36 patients who have tried the raw cornstarch diet\n",
    "    <br>have a mean glucose level of 108. Test the hypothesis that the raw cornstarch had an\n",
    "    <br>effect or not"
   ]
  },
  {
   "cell_type": "code",
   "execution_count": 4,
   "metadata": {},
   "outputs": [
    {
     "name": "stdout",
     "output_type": "stream",
     "text": [
      "Since Zscore of t-statistics is  3.2  which is very far from 1.96. That is why we can reject our null hypothesis.\n"
     ]
    }
   ],
   "source": [
    "u = 100\n",
    "h0 = u\n",
    "st_dev = 15\n",
    "n = 36\n",
    "x = 108\n",
    "h1 = x\n",
    "#Since alpha level is not mention, we can consider this as 0.05 or 5%.\n",
    "#Since it is 2tail test - We will devide it by 2 and critical region would be 2.5% both side.\n",
    "#We need to find out z score of 1half of curve i.e (50% - 2.5%) i.e. 47.5% which is equal to 0.475.\n",
    "#1-0..25 = 0.975\n",
    "#Z score of 0.975 is equal to 1.96.\n",
    "z_scoreR = 1.96\n",
    "z_scoreL = -1.96\n",
    "    \n",
    "#Finding T-Statistics to check whether values is within critical region or not\n",
    "z  = (x-u)/(st_dev/math.sqrt(n))\n",
    "    \n",
    "print('Since Zscore of t-statistics is ', z , ' which is very far from 1.96. That is why we can reject our null hypothesis.')"
   ]
  },
  {
   "cell_type": "code",
   "execution_count": 3,
   "metadata": {},
   "outputs": [
    {
     "data": {
      "text/plain": [
       "3.2"
      ]
     },
     "execution_count": 3,
     "metadata": {},
     "output_type": "execute_result"
    }
   ],
   "source": [
    "z  = (x-u)/(st_dev/math.sqrt(n))\n",
    "z"
   ]
  },
  {
   "cell_type": "markdown",
   "metadata": {},
   "source": [
    "# Question 2"
   ]
  },
  {
   "cell_type": "code",
   "execution_count": 5,
   "metadata": {},
   "outputs": [
    {
     "ename": "SyntaxError",
     "evalue": "invalid syntax (<ipython-input-5-c458a3dc8999>, line 10)",
     "output_type": "error",
     "traceback": [
      "\u001b[1;36m  File \u001b[1;32m\"<ipython-input-5-c458a3dc8999>\"\u001b[1;36m, line \u001b[1;32m10\u001b[0m\n\u001b[1;33m    σd = sqrt{ [ P1(1 - P1) / n1 ] + [ P2(1 - P2) / n2 ] }\u001b[0m\n\u001b[1;37m             ^\u001b[0m\n\u001b[1;31mSyntaxError\u001b[0m\u001b[1;31m:\u001b[0m invalid syntax\n"
     ]
    }
   ],
   "source": [
    "#For this analysis, let P1 = the proportion of Republican voters in the first state, P2 = the proportion of Republican voters in the second state, p1 = the proportion of Republican voters in the sample from the first state, and p2 = the proportion of Republican voters in the sample from the second state. The number of voters sampled from the first state (n1) = 100, and the number of voters sampled from the second state (n2) = 100.\n",
    "\n",
    "#The solution involves four steps.\n",
    "\n",
    "#Make sure the sample size is big enough to model differences with a normal population. Because n1P1 = 100 * 0.52 = 52, n1(1 - P1) = 100 * 0.48 = 48, n2P2 = 100 * 0.47 = 47, and n2(1 - P2) = 100 * 0.53 = 53 are each greater than 10, the sample size is large enough.\n",
    "\n",
    "#Find the mean of the difference in sample proportions: E(p1 - p2) = P1 - P2 = 0.52 - 0.47 = 0.05.\n",
    "\n",
    "#Find the standard deviation of the difference.\n",
    "σd = sqrt{ [ P1(1 - P1) / n1 ] + [ P2(1 - P2) / n2 ] }\n",
    "σd = sqrt{ [ (0.52)(0.48) / 100 ] + [ (0.47)(0.53) / 100 ] }\n",
    "σd = sqrt (0.002496 + 0.002491) = sqrt(0.004987) = 0.0706\n",
    "Find the probability. This problem requires us to find the probability that p1 is less than p2. This is equivalent to finding the probability that p1 - p2 is less than zero. To find this probability, we need to transform the random variable (p1 - p2) into a z-score. That transformation appears below.\n",
    "z p1 - p2 = (x - μ p1 - p2 ) / σd = = (0 - 0.05)/0.0706 = -0.7082\n",
    "\n",
    "\n",
    "#Using Stat Trek's Normal Distribution Calculator, we find that the probability of a z-score being -0.7082 or less is 0.24."
   ]
  },
  {
   "cell_type": "markdown",
   "metadata": {},
   "source": [
    "# Question 3"
   ]
  },
  {
   "cell_type": "code",
   "execution_count": 9,
   "metadata": {},
   "outputs": [
    {
     "name": "stdout",
     "output_type": "stream",
     "text": [
      "I have scored good as compare to the average test taker as my score is 0.35 standard deviation above the mean.\n"
     ]
    }
   ],
   "source": [
    "SAT_score = 1100\n",
    "u = 1026\n",
    "stdv_ = 209\n",
    "\n",
    "z_value = (SAT_score-u)/stdv_\n",
    "z_value\n",
    "\n",
    "print(\"I have scored good as compare to the average test taker as my score is 0.35 standard deviation above the mean.\")"
   ]
  },
  {
   "cell_type": "code",
   "execution_count": null,
   "metadata": {},
   "outputs": [],
   "source": []
  }
 ],
 "metadata": {
  "kernelspec": {
   "display_name": "Python 3",
   "language": "python",
   "name": "python3"
  },
  "language_info": {
   "codemirror_mode": {
    "name": "ipython",
    "version": 3
   },
   "file_extension": ".py",
   "mimetype": "text/x-python",
   "name": "python",
   "nbconvert_exporter": "python",
   "pygments_lexer": "ipython3",
   "version": "3.7.3"
  }
 },
 "nbformat": 4,
 "nbformat_minor": 2
}
